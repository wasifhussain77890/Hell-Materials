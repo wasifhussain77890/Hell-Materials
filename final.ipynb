{
 "cells": [
  {
   "cell_type": "markdown",
   "id": "fc4004a1",
   "metadata": {},
   "source": [
    "# Here we use our model which made by previous main.ipynb file and use the model "
   ]
  },
  {
   "cell_type": "code",
   "execution_count": 9,
   "id": "8fca0fec",
   "metadata": {},
   "outputs": [],
   "source": [
    "# Impot pickel and numpy for operation \n",
    "import pickle\n",
    "import numpy as np"
   ]
  },
  {
   "cell_type": "code",
   "execution_count": 10,
   "id": "465b5a34",
   "metadata": {},
   "outputs": [],
   "source": [
    "# Loade the model in 'model' variable\n",
    "model=pickle.load(open(\"Rock_Vs_Mine.pkl\",\"rb\"))"
   ]
  },
  {
   "cell_type": "code",
   "execution_count": 28,
   "id": "cf1685df",
   "metadata": {},
   "outputs": [],
   "source": [
    "# set a test data for perdiction the model\n",
    "test=[0.0317,0.0956,0.1321,0.1408,0.1674,0.1710,0.0731,0.1401,0.2083,0.3513,0.1786,0.0658,0.0513,0.3752,0.5419,0.5440,0.5150,0.4262,0.2024,0.4233,0.7723,0.9735,0.9390,0.5559,0.5268,0.6826,0.5713,0.5429,0.2177,0.2149,0.5811,0.6323,0.2965,0.1873,0.2969,0.5163,0.6153,0.4283,0.5479,0.6133,0.5017,0.2377,0.1957,0.1749,0.1304,0.0597,0.1124,0.1047,0.0507,0.0159,0.0195,0.0201,0.0248,0.0131,0.0070,0.0138,0.0092,0.0143,0.0036,0.0103]\n",
    "#  Lets reshape our test data as numpy array \n",
    "test=np.array(test)"
   ]
  },
  {
   "cell_type": "code",
   "execution_count": 29,
   "id": "ec886f93",
   "metadata": {},
   "outputs": [
    {
     "name": "stdout",
     "output_type": "stream",
     "text": [
      "Rock\n"
     ]
    }
   ],
   "source": [
    "#  Here the ans variable store the predition\n",
    "ans=model.predict([test])\n",
    "if ans[0]=='M':\n",
    "    print(\"Mine\")\n",
    "else :\n",
    "    print(\"Rock\")"
   ]
  },
  {
   "cell_type": "code",
   "execution_count": null,
   "id": "d0d3005e",
   "metadata": {},
   "outputs": [],
   "source": []
  },
  {
   "cell_type": "code",
   "execution_count": null,
   "id": "0773bce9",
   "metadata": {},
   "outputs": [],
   "source": []
  }
 ],
 "metadata": {
  "kernelspec": {
   "display_name": "Python 3 (ipykernel)",
   "language": "python",
   "name": "python3"
  },
  "language_info": {
   "codemirror_mode": {
    "name": "ipython",
    "version": 3
   },
   "file_extension": ".py",
   "mimetype": "text/x-python",
   "name": "python",
   "nbconvert_exporter": "python",
   "pygments_lexer": "ipython3",
   "version": "3.9.12"
  }
 },
 "nbformat": 4,
 "nbformat_minor": 5
}
